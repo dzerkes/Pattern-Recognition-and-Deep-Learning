{
 "cells": [
  {
   "cell_type": "markdown",
   "metadata": {},
   "source": [
    "### Bonus Part : Χρήση packed padded sequences\n",
    "\n",
    "Ουσιαστικά, αυτό που περιμένουμε από τη συγκεκριμένη υλοποίηση είναι να δούμε εάν είναι το Αναδρωμικό μας δίκτυο εκπαιδεύεται πιο γρήγορα, καθώς όταν περνάμε τα features πλέον περνάμε και το μήκος της πραγματικής ακολουθίας (χωρίς τα zero padding),ώστε να γνωρίζει που να σταματήσει."
   ]
  },
  {
   "cell_type": "code",
   "execution_count": 1,
   "metadata": {},
   "outputs": [],
   "source": [
    "from parser import parser\n",
    "import os\n",
    "import numpy as np\n",
    "import matplotlib.pyplot as plt\n",
    "import itertools\n",
    "from lstm import *"
   ]
  },
  {
   "cell_type": "markdown",
   "metadata": {},
   "source": [
    "Παρακάτω κάνουμε import τα δεδομένα μας με την έτοιμη συνάρτηση parser και στη συνέχεια τα χωρίζουμε σε training και validation data."
   ]
  },
  {
   "cell_type": "code",
   "execution_count": 2,
   "metadata": {},
   "outputs": [],
   "source": [
    "path = '../recordings' \n",
    "X_train, X_test, y_train, y_test, spk_train, spk_test = parser(path)"
   ]
  },
  {
   "cell_type": "code",
   "execution_count": 3,
   "metadata": {},
   "outputs": [],
   "source": [
    "from sklearn.model_selection import train_test_split\n",
    "X_train, X_val, Y_train, Y_val = train_test_split(X_train, y_train, stratify=y_train, test_size=0.2)"
   ]
  },
  {
   "cell_type": "markdown",
   "metadata": {},
   "source": [
    "Παρακάτω κάνουμε χρήση της συνάρτησης FrameLevelDataset από το lstm.py αρχείο. Η συγκεκριμένη συνάρτηση ουσιαστικά παίρνει τα δεδομένα και κάνει τα εξής:\n",
    "\n",
    "    - Βρίσκει το πραγματικό μήκος κάθε δείγματος χωρίς το padding\n",
    "    - στη συνέχεια κάνει sort τα indexes ανάλογα με το πραγματικό μήκος του κάθε δείγματος.\n",
    "    - έπειτα ταξινομεί τα πραγματικά μήκοι, τα label και τα samples ανάλογα με τα sorted indexes.\n",
    "    - Τέλος κάνουμε zero padding τα samples ανάλογα με το μεγαλύτερο σε μήκος δείγμα."
   ]
  },
  {
   "cell_type": "code",
   "execution_count": 4,
   "metadata": {},
   "outputs": [],
   "source": [
    "sort = True\n",
    "train_dataset = FrameLevelDataset(X_train, Y_train, sort=sort)\n",
    "val_dataset = FrameLevelDataset(X_val, Y_val, sort=sort)\n",
    "test_dataset = FrameLevelDataset(X_test, y_test, sort=sort)\n",
    "trainset_loader = torch.utils.data.DataLoader(train_dataset, batch_size=64,\n",
    "                                              shuffle=False, num_workers=4)\n",
    "valset_loader = torch.utils.data.DataLoader(val_dataset, batch_size=len(val_dataset), \n",
    "                                            shuffle=False, num_workers=4)\n",
    "testset_loader = torch.utils.data.DataLoader(test_dataset, batch_size=len(test_dataset), \n",
    "                                             shuffle=False, num_workers=4)"
   ]
  },
  {
   "cell_type": "code",
   "execution_count": 5,
   "metadata": {},
   "outputs": [],
   "source": [
    "dataloaders = {'train':trainset_loader,'val':valset_loader}"
   ]
  },
  {
   "cell_type": "markdown",
   "metadata": {},
   "source": [
    "Δημιουργία lstm μοντέλου."
   ]
  },
  {
   "cell_type": "code",
   "execution_count": 6,
   "metadata": {},
   "outputs": [],
   "source": [
    "#change my model parameters to double , so it can get double tensors\n",
    "model = BasicLSTM(input_dim=6, rnn_size=64, output_dim=10, num_layers=2, dropout=0.2, bidirectional=True, pad_packed=True).double()\n",
    "#model.train() its by default on train mode\n",
    "criterion =  nn.CrossEntropyLoss()\n",
    "optimizer = torch.optim.Adam(model.parameters(), weight_decay=0.001)"
   ]
  },
  {
   "cell_type": "markdown",
   "metadata": {},
   "source": [
    "Early stopping υλοποίηση."
   ]
  },
  {
   "cell_type": "code",
   "execution_count": 7,
   "metadata": {},
   "outputs": [],
   "source": [
    "import numpy as np\n",
    "import torch\n",
    "class EarlyStopping:\n",
    "    def __init__(self, patience=7, verbose=False):\n",
    "        self.patience = patience\n",
    "        self.verbose = verbose\n",
    "        self.counter = 0\n",
    "        self.best_score = None\n",
    "        self.early_stop = False\n",
    "        self.val_loss_min = np.Inf\n",
    "\n",
    "    def __call__(self, val_loss, model):\n",
    "\n",
    "        score = -val_loss\n",
    "\n",
    "        if self.best_score is None:\n",
    "            self.best_score = score\n",
    "            self.save_checkpoint(val_loss, model)\n",
    "        elif score < self.best_score:\n",
    "            self.counter += 1\n",
    "            print(f'EarlyStopping counter: {self.counter} out of {self.patience}')\n",
    "            if self.counter >= self.patience:\n",
    "                self.early_stop = True\n",
    "        else:\n",
    "            self.best_score = score\n",
    "            self.save_checkpoint(val_loss, model)\n",
    "            self.counter = 0\n",
    "\n",
    "    def save_checkpoint(self, val_loss, model):\n",
    "        '''Saves model when validation loss decrease.'''\n",
    "        if self.verbose:\n",
    "            print(f'Validation loss decreased ({self.val_loss_min:.6f} --> {val_loss:.6f}).  Saving model ...')\n",
    "        torch.save(model.state_dict(), 'checkpoint.pt')\n",
    "        self.val_loss_min = val_loss"
   ]
  },
  {
   "cell_type": "markdown",
   "metadata": {},
   "source": [
    "Training function"
   ]
  },
  {
   "cell_type": "code",
   "execution_count": 8,
   "metadata": {},
   "outputs": [],
   "source": [
    "def train(model,dataloaders,num_epochs,optimizer,patience):\n",
    "    Flag=False\n",
    "    # for loss\n",
    "    val_loss = []\n",
    "    train_loss = []\n",
    "    phase1 = dataloaders.keys()\n",
    "    criterion = nn.CrossEntropyLoss()\n",
    "    train_loader = dataloaders['train']\n",
    "    if(torch.cuda.is_available()):\n",
    "        device = 'cuda'\n",
    "    else:\n",
    "        device = 'cpu'\n",
    "    if(patience!=None):\n",
    "        earlystop = EarlyStopping(patience = patience,verbose = True)\n",
    "    for epoch in range(num_epochs):\n",
    "        counter = epoch # keeping this variable for plot function after for loop\n",
    "        if Flag == True:\n",
    "            break\n",
    "        print('Epoch:',epoch + 1)\n",
    "        epoch_metrics = {\"loss\": [], \"acc\": []}\n",
    "        for phase in phase1:\n",
    "            if phase == 'train':\n",
    "                model.train()\n",
    "            else:\n",
    "                model.eval()\n",
    "            for  batch_idx, data in enumerate(dataloaders[phase]):\n",
    "                optimizer.zero_grad()\n",
    "                output = model(data[0], data[2]) \n",
    "                loss = criterion(output, data[1])\n",
    "                acc = 100 * (output.detach().argmax(1) == data[1]).cpu().numpy().mean()\n",
    "                epoch_metrics[\"loss\"].append(loss.item())\n",
    "                epoch_metrics[\"acc\"].append(acc)\n",
    "                sys.stdout.write(\n",
    "                \"\\r[Epoch %d/%d] [Batch %d/%d] [Loss: %f (%f), Acc: %.2f%% (%.2f%%)]\"\n",
    "                % (\n",
    "                    epoch + 1,\n",
    "                    num_epochs,\n",
    "                    batch_idx,\n",
    "                    len(dataloaders[phase]),\n",
    "                    loss.item(),\n",
    "                    np.mean(epoch_metrics[\"loss\"]),\n",
    "                    acc,\n",
    "                    np.mean(epoch_metrics[\"acc\"]),\n",
    "                    )\n",
    "                )\n",
    "\n",
    "                if(phase =='train'):\n",
    "                    loss.backward()\n",
    "                    optimizer.step()\n",
    "            \n",
    "            epoch_acc = np.mean(epoch_metrics[\"acc\"])\n",
    "            epoch_loss = np.mean(epoch_metrics[\"loss\"])\n",
    "            \n",
    "            if phase == 'train':\n",
    "                train_loss.append(epoch_loss)\n",
    "            else: \n",
    "                val_loss.append(epoch_loss)\n",
    "            if(phase == 'val' and patience !=None):\n",
    "                earlystop(epoch_loss,model)\n",
    "                if(earlystop.early_stop):\n",
    "                    print(\"Early stopping\")\n",
    "                    model.load_state_dict(torch.load('./checkpoint.pt'))\n",
    "                    print('{} Accuracy: {}'.format(phase,epoch_acc.item()))\n",
    "                    #break\n",
    "                    Flag = True\n",
    "        print('{} Accuracy: {}'.format(phase,epoch_acc.item()))\n",
    "    if counter == num_epochs -1:\n",
    "        epochs_axis = np.arange(num_epochs)\n",
    "    else:\n",
    "        epochs_axis = np.arange(counter)\n",
    "    plt.plot(epochs_axis, train_loss,color='red')\n",
    "    plt.plot(epochs_axis, val_loss,color='blue')\n",
    "    plt.legend(['training-red', 'validation-blue'], loc='upper left')\n",
    "    plt.show()\n"
   ]
  },
  {
   "cell_type": "code",
   "execution_count": 9,
   "metadata": {},
   "outputs": [
    {
     "name": "stdout",
     "output_type": "stream",
     "text": [
      "Epoch: 1\n",
      "[Epoch 1/20] [Batch 0/1] [Loss: 2.228996 (2.293915), Acc: 37.41% (10.94%)]Validation loss decreased (inf --> 2.293915).  Saving model ...\n",
      "val Accuracy: 10.944756760728982\n",
      "Epoch: 2\n",
      "[Epoch 2/20] [Batch 0/1] [Loss: 1.953704 (2.139903), Acc: 62.96% (50.92%)]Validation loss decreased (2.293915 --> 2.139903).  Saving model ...\n",
      "val Accuracy: 50.918577307466194\n",
      "Epoch: 3\n",
      "[Epoch 3/20] [Batch 0/1] [Loss: 1.273880 (1.657391), Acc: 67.41% (65.59%)]Validation loss decreased (2.139903 --> 1.657391).  Saving model ...\n",
      "val Accuracy: 65.58761390358613\n",
      "Epoch: 4\n",
      "[Epoch 4/20] [Batch 0/1] [Loss: 0.738226 (1.040736), Acc: 87.04% (74.81%)]Validation loss decreased (1.657391 --> 1.040736).  Saving model ...\n",
      "val Accuracy: 74.81306951793061\n",
      "Epoch: 5\n",
      "[Epoch 5/20] [Batch 0/1] [Loss: 0.487974 (0.592355), Acc: 91.85% (88.06%)]Validation loss decreased (1.040736 --> 0.592355).  Saving model ...\n",
      "val Accuracy: 88.06419018224574\n",
      "Epoch: 6\n",
      "[Epoch 6/20] [Batch 0/1] [Loss: 0.362300 (0.395549), Acc: 90.37% (91.57%)]Validation loss decreased (0.592355 --> 0.395549).  Saving model ...\n",
      "val Accuracy: 91.56571502057614\n",
      "Epoch: 7\n",
      "[Epoch 7/20] [Batch 0/1] [Loss: 0.267944 (0.247831), Acc: 91.85% (95.79%)]Validation loss decreased (0.395549 --> 0.247831).  Saving model ...\n",
      "val Accuracy: 95.78988462669018\n",
      "Epoch: 8\n",
      "[Epoch 8/20] [Batch 0/1] [Loss: 0.210317 (0.193626), Acc: 94.07% (95.84%)]Validation loss decreased (0.247831 --> 0.193626).  Saving model ...\n",
      "val Accuracy: 95.83893665490888\n",
      "Epoch: 9\n",
      "[Epoch 9/20] [Batch 0/1] [Loss: 0.198028 (0.138309), Acc: 94.81% (97.62%)]Validation loss decreased (0.193626 --> 0.138309).  Saving model ...\n",
      "val Accuracy: 97.61620002939448\n",
      "Epoch: 10\n",
      "[Epoch 10/20] [Batch 0/1] [Loss: 0.161163 (0.106492), Acc: 95.19% (98.41%)]Validation loss decreased (0.138309 --> 0.106492).  Saving model ...\n",
      "val Accuracy: 98.40562536743091\n",
      "Epoch: 11\n",
      "[Epoch 11/20] [Batch 0/1] [Loss: 0.152563 (0.092283), Acc: 95.56% (98.23%)]Validation loss decreased (0.106492 --> 0.092283).  Saving model ...\n",
      "val Accuracy: 98.22778880070547\n",
      "Epoch: 12\n",
      "[Epoch 12/20] [Batch 0/1] [Loss: 0.149365 (0.076552), Acc: 95.56% (98.69%)]Validation loss decreased (0.092283 --> 0.076552).  Saving model ...\n",
      "val Accuracy: 98.68661816578484\n",
      "Epoch: 13\n",
      "[Epoch 13/20] [Batch 0/1] [Loss: 0.152380 (0.078051), Acc: 95.19% (98.60%)]EarlyStopping counter: 1 out of 3\n",
      "val Accuracy: 98.60403806584362\n",
      "Epoch: 14\n",
      "[Epoch 14/20] [Batch 0/1] [Loss: 0.144168 (0.070770), Acc: 95.56% (98.40%)]Validation loss decreased (0.076552 --> 0.070770).  Saving model ...\n",
      "val Accuracy: 98.40139991181658\n",
      "Epoch: 15\n",
      "[Epoch 15/20] [Batch 0/1] [Loss: 0.132917 (0.061245), Acc: 95.56% (98.61%)]Validation loss decreased (0.070770 --> 0.061245).  Saving model ...\n",
      "val Accuracy: 98.61221340388008\n",
      "Epoch: 16\n",
      "[Epoch 16/20] [Batch 0/1] [Loss: 0.126879 (0.052812), Acc: 97.04% (99.13%)]Validation loss decreased (0.061245 --> 0.052812).  Saving model ...\n",
      "val Accuracy: 99.12854570840682\n",
      "Epoch: 17\n",
      "[Epoch 17/20] [Batch 0/1] [Loss: 0.153044 (0.051353), Acc: 95.56% (99.06%)]Validation loss decreased (0.052812 --> 0.051353).  Saving model ...\n",
      "val Accuracy: 99.05864197530865\n",
      "Epoch: 18\n",
      "[Epoch 18/20] [Batch 0/1] [Loss: 0.147215 (0.056665), Acc: 94.81% (98.83%)]EarlyStopping counter: 1 out of 3\n",
      "val Accuracy: 98.83147780717225\n",
      "Epoch: 19\n",
      "[Epoch 19/20] [Batch 0/1] [Loss: 0.123375 (0.057290), Acc: 96.67% (99.18%)]EarlyStopping counter: 2 out of 3\n",
      "val Accuracy: 99.18237433862434\n",
      "Epoch: 20\n",
      "[Epoch 20/20] [Batch 0/1] [Loss: 0.141664 (0.056916), Acc: 95.19% (98.85%)]EarlyStopping counter: 3 out of 3\n",
      "Early stopping\n",
      "val Accuracy: 98.8520539388595\n",
      "val Accuracy: 98.8520539388595\n"
     ]
    },
    {
     "data": {
      "image/png": "[encoded data removed]",
      "text/plain": [
       "<Figure size 432x288 with 1 Axes>"
      ]
     },
     "metadata": {
      "needs_background": "light"
     },
     "output_type": "display_data"
    }
   ],
   "source": [
    "import sys\n",
    "optim = torch.optim.Adam(model.parameters(),lr = 0.001,weight_decay = 1e-3) # weight decay is for l2 regularization\n",
    "train(model,dataloaders,20,optim,3)"
   ]
  },
  {
   "cell_type": "markdown",
   "metadata": {},
   "source": [
    "Πράγματι, παρατηρούμε ότι με τη συγκεκριμένη υλοποίηση το lstm εκπαιδεύεται αρκετά πιο γρήγορα περίπου 10 φορές ταχύτερα."
   ]
  }
 ],
 "metadata": {
  "kernelspec": {
   "display_name": "Python 3",
   "language": "python",
   "name": "python3"
  },
  "language_info": {
   "codemirror_mode": {
    "name": "ipython",
    "version": 3
   },
   "file_extension": ".py",
   "mimetype": "text/x-python",
   "name": "python",
   "nbconvert_exporter": "python",
   "pygments_lexer": "ipython3",
   "version": "3.7.3"
  }
 },
 "nbformat": 4,
 "nbformat_minor": 2
}

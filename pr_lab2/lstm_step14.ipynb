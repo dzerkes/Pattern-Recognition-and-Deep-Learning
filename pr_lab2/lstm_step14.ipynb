{
 "cells": [
  {
   "cell_type": "markdown",
   "metadata": {},
   "source": [
    "# ΜΑΡΙΑ ΚΑΙΚΤΖΟΓΛΟΥ - 03400052\n",
    "# ΔΗΜΗΤΡΗΣ ΖΕΡΚΕΛΙΔΗΣ - 03400049"
   ]
  },
  {
   "cell_type": "markdown",
   "metadata": {},
   "source": [
    "## ΒΗΜΑ 18 BI-LSTM"
   ]
  },
  {
   "cell_type": "markdown",
   "metadata": {},
   "source": [
    "Παρακάτω είναι η συνάρτηση parser , για να διαβάζουμε τα αρχεία ήχου."
   ]
  },
  {
   "cell_type": "code",
   "execution_count": 8,
   "metadata": {
    "colab": {},
    "colab_type": "code",
    "id": "Y2koDHgq24Ft"
   },
   "outputs": [],
   "source": [
    "import numpy as np\n",
    "import librosa\n",
    "from glob import glob\n",
    "import os\n",
    "import torch\n",
    "from sklearn.preprocessing import StandardScaler\n",
    "from torch.autograd import Variable\n",
    "import sys\n",
    "import matplotlib.pyplot as plt\n",
    "\n",
    "def parser(directory):\n",
    "    # Parse relevant dataset info\n",
    "    files = glob(os.path.join(directory, '*.wav'))\n",
    "    fnames = [f.split('/')[-1].split('.')[0].split('_') for f in files]\n",
    "    ids = [f[2] for f in fnames]\n",
    "    #print(ids)\n",
    "    y = [int(f[0]) for f in fnames]\n",
    "    speakers = [f[1] for f in fnames]\n",
    "    _, Fs = librosa.core.load(files[0], sr=None)\n",
    "\n",
    "    def read_wav(f):\n",
    "        global Fs\n",
    "        wav, fs = librosa.core.load(f, sr=None)\n",
    "        return wav\n",
    "\n",
    "    # Read all wavs\n",
    "    wavs = [read_wav(f) for f in files]\n",
    "\n",
    "    # Extract MFCCs for all wavs\n",
    "    window = 30 * Fs // 1000\n",
    "    step = window // 2\n",
    "    frames = [librosa.feature.mfcc(wav, Fs, n_fft=window, hop_length=window - step, n_mfcc=6).T for wav in wavs]\n",
    "    # Print dataset info\n",
    "    #print('Total wavs: {}'.format(len(frames)))\n",
    "\n",
    "    # Standardize data\n",
    "    scaler = StandardScaler()\n",
    "    scaler.fit(np.concatenate(frames))\n",
    "    for i in range(len(frames)):\n",
    "        frames[i] = scaler.transform(frames[i])\n",
    "\n",
    "    # Split to train-test\n",
    "    X_train, y_train, spk_train = [], [], []\n",
    "    X_test, y_test, spk_test = [], [], []\n",
    "    test_indices = ['0', '1', '2', '3', '4']\n",
    "    for idx, frame, label, spk in zip(ids, frames, y, speakers):\n",
    "        if str(idx) in test_indices:\n",
    "            X_test.append(frame)\n",
    "            y_test.append(label)\n",
    "            spk_test.append(spk)\n",
    "        else:\n",
    "            X_train.append(frame)\n",
    "            y_train.append(label)\n",
    "            spk_train.append(spk)\n",
    "\n",
    "    return X_train, X_test, y_train, y_test, spk_train, spk_test\n",
    "\n",
    "\n",
    "\n",
    "from sklearn.model_selection import train_test_split\n",
    "directory = \"../recordings/\"\n",
    "X_train, X_test, y_train, y_test, spk_train, spk_test = parser(directory)\n"
   ]
  },
  {
   "cell_type": "markdown",
   "metadata": {},
   "source": [
    "Αυτή είναι η συνάρτηση που μας δίνεται για να κάνουμε plot τα confusion matrix."
   ]
  },
  {
   "cell_type": "code",
   "execution_count": 9,
   "metadata": {},
   "outputs": [],
   "source": [
    "from sklearn.metrics import confusion_matrix\n",
    "import itertools\n",
    "def plot_confusion_matrix(cm , classes=[0,1,2,3,4,5,6,7,8,9],\n",
    "                          normalize=False,\n",
    "                          title='Confusion matrix',\n",
    "                          cmap=plt.cm.Blues):\n",
    "    \"\"\"\n",
    "    This function prints and plots the confusion matrix.\n",
    "    Normalization can be applied by setting `normalize=True`.\n",
    "    \"\"\"\n",
    "    if normalize:\n",
    "        cm = cm.astype('float') / cm.sum(axis=1)[:, np.newaxis]\n",
    "        print(\"Normalized confusion matrix\")\n",
    "    else:\n",
    "        print('Confusion matrix, without normalization')\n",
    "\n",
    "    print(cm)\n",
    "\n",
    "    plt.imshow(cm, interpolation='nearest', cmap=cmap)\n",
    "    plt.title(title)\n",
    "    plt.colorbar()\n",
    "    tick_marks = np.arange(len(classes))\n",
    "    plt.xticks(tick_marks, classes, rotation=45)\n",
    "    plt.yticks(tick_marks, classes)\n",
    "\n",
    "    fmt = '.2f' if normalize else 'd'\n",
    "    thresh = cm.max() / 2.\n",
    "    for i, j in itertools.product(range(cm.shape[0]), range(cm.shape[1])):\n",
    "        plt.text(j, i, format(cm[i, j], fmt),\n",
    "                 horizontalalignment=\"center\",\n",
    "                 color=\"white\" if cm[i, j] > thresh else \"black\")\n",
    "\n",
    "    plt.ylabel('True label')\n",
    "    plt.xlabel('Predicted label')\n",
    "    plt.tight_layout()"
   ]
  },
  {
   "cell_type": "markdown",
   "metadata": {},
   "source": [
    "Μετατρέπουμε σε torch tensors τα training δεδομένα μας, ενώ στη συνέχεια κάνουμε padding ώστε να έχουν όλα το ίδιο μέγεθος. Τα δεδομένα θα έχουν το μέγεθος της μεγαλύτερης ακολουθίας χρόνου.\n",
    "\n",
    "Τα δεδομένα εισόδου π.χ. X_train είναι της μορφής \"number-of-samples X max_timestep_with_padding X # of MFCCs\""
   ]
  },
  {
   "cell_type": "code",
   "execution_count": 3,
   "metadata": {
    "colab": {},
    "colab_type": "code",
    "id": "Of26oaYo4yDj"
   },
   "outputs": [],
   "source": [
    "for i in range(len(X_train)):\n",
    "    X_train[i] = torch.from_numpy(X_train[i])\n",
    "X_train = torch.nn.utils.rnn.pad_sequence(X_train, batch_first=True)"
   ]
  },
  {
   "cell_type": "markdown",
   "metadata": {},
   "source": [
    "Χωρίζουμε τα δεδομένα training σε training και validation, με σκοπό να γνωρίζουμε πότε το μοντέλο γίνεται overfit και κάνει fit τον θόρυβο. Επίσης, σπάμε τα δεδομένα σε batch_size = 64.\n",
    "\n",
    "Tέλος, φτιάχνουμε ένα dictionary το οποίο θα μας δείχνει πότε να χρησιμοποιούμε τα training δεδομένα και πότε τα validation ώστε να τα προβλέπουμε και σύμφωνα με το ποσοστό επιτυχίας να βλέπουμε αν το μοντέλο μας παρουσιάζει overfitting."
   ]
  },
  {
   "cell_type": "code",
   "execution_count": 4,
   "metadata": {
    "colab": {},
    "colab_type": "code",
    "id": "x5ZjLMuq5ljN"
   },
   "outputs": [],
   "source": [
    "X_train, X_val, y_train, y_val=train_test_split(X_train.numpy(), y_train, test_size=0.2, random_state=1, stratify = y_train)\n",
    "train_data = torch.utils.data.TensorDataset(torch.from_numpy(X_train),torch.from_numpy(np.asarray(y_train)))\n",
    "val_data = torch.utils.data.TensorDataset(torch.from_numpy(X_val),torch.from_numpy(np.asarray(y_val)))\n",
    "train_loader = torch.utils.data.DataLoader(train_data,batch_size = 64, shuffle = True)\n",
    "valid_loader = torch.utils.data.DataLoader(val_data)\n",
    "dataloaders = {'train':train_loader,'val':valid_loader}"
   ]
  },
  {
   "cell_type": "markdown",
   "metadata": {},
   "source": [
    "Παρακάτω δημιουργούμε ένα Bidirectional LSTM , το οποίο δέχεται ακολουθίες μεγέθους 6 , επειδή κάθε sample έχει 6 MFCCs. Επίσης, έχει hidden layer size 256 και αριθμό LSTM layer ίσο με 1.\n",
    "\n",
    "Χρησιμοποιούμε Dropout στο 30%. To dropout βοηθάει,ώστε το μοντέλο μας να μη γίνει overfit. Αυτό το κάνει, σβήνοντας κάποιους κόμβους από το hidden layer με πιθανότητα 30%. Επομένως, αναγκάζει κόμβους οι οποίοι έχουν γίνει overtrained να είναι σα να μην υπάρχουν, ώστε να εκπαιδευτούν και οι άλλοι κόμβοι. Αυτό έχει ως αποτέλεσμα να είναι όλοι οι κόμβοι να έχουν γίνει trained όμοια, χωρίς κάποιος να χει γίνει παραπάνω.\n",
    "\n",
    "Στο output layer έχουμε 10 outputs, 1 για κάθε κλάση. Δεν υπολογίζουμε κάποια πιθανότητα εδώ , καθώς το pytorch το κάνει από μόνο του με την CrossEntropy συνάρτηση.\n"
   ]
  },
  {
   "cell_type": "code",
   "execution_count": 5,
   "metadata": {
    "colab": {},
    "colab_type": "code",
    "id": "VAEtxB-624GH"
   },
   "outputs": [],
   "source": [
    "import torch\n",
    "import torch.autograd as autograd\n",
    "import torch.nn as nn\n",
    "import torch.functional as F\n",
    "import torch.optim as optim\n",
    "from torch.nn.utils.rnn import pack_padded_sequence, pad_packed_sequence\n",
    "class LSTMClassifier(nn.Module):\n",
    "\n",
    "    def __init__(self, ):\n",
    "        super(LSTMClassifier, self).__init__()\n",
    "        self.lstm = nn.LSTM(6, 256, num_layers=1,batch_first =True , bidirectional = True)\n",
    "        self.hidden2out = nn.Linear(256,10)\n",
    "        self.dropout_layer = nn.Dropout(p=0.3)\n",
    "    def forward(self, data):\n",
    "        outputs, (ht, ct) = self.lstm(data, None) \n",
    "        output = self.dropout_layer(ht[-1])\n",
    "        output = self.hidden2out(output)\n",
    "        return output\n",
    "    "
   ]
  },
  {
   "cell_type": "markdown",
   "metadata": {},
   "source": [
    "### Τι αλλάζει εσωτερικά σε ένα LSTM  όταν είναι bidirectional..."
   ]
  },
  {
   "cell_type": "markdown",
   "metadata": {},
   "source": [
    "Αρχικά, έχουμε επιλέξει να κάνουμε ένα bidirectional LSTM το οποίο υλοποιείται με την παράμετρο bidirectional = True όπως φαίνεται παραπάνω.\n",
    "\n",
    "Αυτό αλλάζει την εσωτερική λειτουργία με τον εξής τρόπο. Πλέον διατρέχουμε μια ακολουθία όχι μόνο left->right αλλά και right->left επομένως τα hidden states έχουν διπλάσιο μέγεθος καθώς τα μισά είναι λόγω της left to right διαδικασίας ενώ τα άλλα μισά είναι λόγω της right to left διαδικασίας.\n",
    "\n",
    "Συνήθως, παίρνουμε το τελευταίο hidden unit από τα 2 παραπάνω είδη hidden states που έχουμε το οποίο και έχει συσσωρεύσει όλη την πληροφορία για την δοσμένη ακολουθία και τα κάνουμε concatenate και στη συνέχεια υπάρχουν διάφορες εφαρμογές που μπορούν να υλοποιηθούν.\n",
    "\n",
    "Με τα bi-lstm μπορούμε να πιάσουμε συσχετίσεις που με τα μονά lstm δε μπορούσαμε λόγω του ότι κοιτάμαι την ακολουθία και ανάποδα."
   ]
  },
  {
   "cell_type": "markdown",
   "metadata": {},
   "source": [
    "### Έλεγχος αν υπάρχει cuda στο υπολογιστικό σύστημα."
   ]
  },
  {
   "cell_type": "code",
   "execution_count": 6,
   "metadata": {
    "colab": {},
    "colab_type": "code",
    "id": "0W7FPhAe24GS"
   },
   "outputs": [],
   "source": [
    "if(torch.cuda.is_available()):\n",
    "  device = 'cuda'\n",
    "else:\n",
    "  device = 'cpu'\n",
    "model = LSTMClassifier().to(device)"
   ]
  },
  {
   "cell_type": "markdown",
   "metadata": {},
   "source": [
    "### Υλοποίηση early stopping"
   ]
  },
  {
   "cell_type": "markdown",
   "metadata": {},
   "source": [
    "Αυτή η συνάρτηση χρησιμοποιείται,ώστε να σταματήσουμε να εκπαιδεόυμε το μοντέλο πριν τελείωσουν τα epochs που έχουμε βάλει.\n",
    "\n",
    "Αυτό μας βοηθάει στην αποφυγή του overfitting καθώς βλέπουμε αν το score στο validation set είναι καλύτερο για έναν αριθμό π.χ. Patience=3, δηλαδή 3 φορές συνεχόμενα το σκορ στο validation set πέφτει , τότε σημαίνει πως έχουμε overfit και πρέπει να σταματήσουμε την εκπαίδευση καθώς πλέον σταματάει να γενικοποιείται και μοντελοποιεί τον θόρυβο.Έτσι, αποθηκεύσουμε το καλύτερο μοντέλο που είναι αυτό που είχε το καλύτερο σκορ πριν τις 3 τελευταίες πτώσεις.\n",
    "\n",
    "Για την αποθήκευση του μοντέλου δε χρησιμοποιούμε το module pickle όπως στα GMM-HMM , αλλά τη συνάρτηση του pytorch torch.save() και αποθηκεύουμε το καλύτερο μοντέλο σε ένα αρχείο checkpoint.pt\n",
    "\n"
   ]
  },
  {
   "cell_type": "code",
   "execution_count": 10,
   "metadata": {
    "colab": {},
    "colab_type": "code",
    "id": "d9aDwHmQ24Gj"
   },
   "outputs": [],
   "source": [
    "import numpy as np\n",
    "import torch\n",
    "class EarlyStopping:\n",
    "    def __init__(self, patience=7, verbose=False):\n",
    "        self.patience = patience\n",
    "        self.verbose = verbose\n",
    "        self.counter = 0\n",
    "        self.best_score = None\n",
    "        self.early_stop = False\n",
    "        self.val_loss_min = np.Inf\n",
    "\n",
    "    def __call__(self, val_loss, model):\n",
    "\n",
    "        score = -val_loss\n",
    "\n",
    "        if self.best_score is None:\n",
    "            self.best_score = score\n",
    "            self.save_checkpoint(val_loss, model)\n",
    "        elif score < self.best_score:\n",
    "            self.counter += 1\n",
    "            print(f'EarlyStopping counter: {self.counter} out of {self.patience}')\n",
    "            if self.counter >= self.patience:\n",
    "                self.early_stop = True\n",
    "        else:\n",
    "            self.best_score = score\n",
    "            self.save_checkpoint(val_loss, model)\n",
    "            self.counter = 0\n",
    "\n",
    "    def save_checkpoint(self, val_loss, model):\n",
    "        '''Saves model when validation loss decrease.'''\n",
    "        if self.verbose:\n",
    "            print(f'Validation loss decreased ({self.val_loss_min:.6f} --> {val_loss:.6f}).  Saving model ...')\n",
    "        torch.save(model.state_dict(), 'checkpoint.pt')\n",
    "        self.val_loss_min = val_loss"
   ]
  },
  {
   "cell_type": "markdown",
   "metadata": {},
   "source": [
    "Παρακάτω είναι η συνάρτηση train , η οποία έχει μεταβλητό αριθμό εποχών που τρέχει, επίσης δέχεται ένα optimizer ανάλογα τη συνάρτηση για το backward propagation. Επίσης δηλώνουμε το Patience, δηλαδή πόσες φορές πρέπει να μειωθεί συνεχόμενα το accuracy του validation set ώστε να σταματήσουμε την εκπαίδευση νωρίς.\n",
    "\n",
    "Όπως φαίνεται παρακάτω για κάθε εποχή τρέχουμε 1 φορά το training και μετά το validation dataset. Έτσι σε κάθε epoch έχουμε μια αποτίμηση του μοντέλου μας.\n",
    "\n",
    "Κάθε φορά τυπώνουμε τα ποσοστά του training και validation , ενώ στο τέλος δημιουργούμε και ένα διάγραμμα Validation - Training Loss over the number of epochs."
   ]
  },
  {
   "cell_type": "code",
   "execution_count": 10,
   "metadata": {
    "colab": {},
    "colab_type": "code",
    "id": "DbSKngQM24HG"
   },
   "outputs": [],
   "source": [
    "def train(model,dataloaders,num_epochs,optimizer,patience):\n",
    "    Flag=False\n",
    "    # for loss\n",
    "    val_loss = []\n",
    "    train_loss = []\n",
    "    phase1 = dataloaders.keys()\n",
    "    criterion = nn.CrossEntropyLoss()\n",
    "    train_loader = dataloaders['train']\n",
    "    if(torch.cuda.is_available()):\n",
    "        device = 'cuda'\n",
    "    else:\n",
    "        device = 'cpu'\n",
    "    if(patience!=None):\n",
    "        earlystop = EarlyStopping(patience = patience,verbose = True)\n",
    "    for epoch in range(num_epochs):\n",
    "        counter = epoch\n",
    "        if Flag == True:\n",
    "            break\n",
    "        print('Epoch:',epoch + 1)\n",
    "        epoch_metrics = {\"loss\": [], \"acc\": []}\n",
    "        for phase in phase1:\n",
    "            if phase == 'train':\n",
    "                model.train()\n",
    "            else:\n",
    "                model.eval()\n",
    "            for  batch_idx, (data, target) in enumerate(dataloaders[phase]):\n",
    "                data, target = Variable(data), Variable(target)\n",
    "                data = data.type(torch.FloatTensor).to(device)\n",
    "                target = target.type(torch.LongTensor).to(device)\n",
    "                optimizer.zero_grad()\n",
    "                output = model(data) \n",
    "                loss = criterion(output, target)\n",
    "                acc = 100 * (output.detach().argmax(1) == target).cpu().numpy().mean()\n",
    "                epoch_metrics[\"loss\"].append(loss.item())\n",
    "                epoch_metrics[\"acc\"].append(acc)\n",
    "                sys.stdout.write(\n",
    "                \"\\r[Epoch %d/%d] [Batch %d/%d] [Loss: %f (%f), Acc: %.2f%% (%.2f%%)]\"\n",
    "                % (\n",
    "                    epoch + 1,\n",
    "                    num_epochs,\n",
    "                    batch_idx,\n",
    "                    len(dataloaders[phase]),\n",
    "                    loss.item(),\n",
    "                    np.mean(epoch_metrics[\"loss\"]),\n",
    "                    acc,\n",
    "                    np.mean(epoch_metrics[\"acc\"]),\n",
    "                    )\n",
    "                )\n",
    "\n",
    "                if(phase =='train'):\n",
    "                    loss.backward()\n",
    "                    optimizer.step()\n",
    "            \n",
    "            epoch_acc = np.mean(epoch_metrics[\"acc\"])\n",
    "            epoch_loss = np.mean(epoch_metrics[\"loss\"])\n",
    "            \n",
    "            if phase == 'train':\n",
    "                train_loss.append(epoch_loss)\n",
    "            else: \n",
    "                val_loss.append(epoch_loss)\n",
    "            if(phase == 'val' and patience !=None):\n",
    "                earlystop(epoch_loss,model)\n",
    "                if(earlystop.early_stop):\n",
    "                    print(\"Early stopping\")\n",
    "                    model.load_state_dict(torch.load('./checkpoint.pt'))\n",
    "                    print('{} Accuracy: {}'.format(phase,epoch_acc.item()))\n",
    "                    #break\n",
    "                    Flag = True\n",
    "        print('{} Accuracy: {}'.format(phase,epoch_acc.item()))\n",
    "    epochs_axis = np.arange(counter)\n",
    "    plt.plot(epochs_axis, train_loss,color='red')\n",
    "    plt.plot(epochs_axis, val_loss,color='blue')\n",
    "    plt.legend(['training-red', 'validation-blue'], loc='upper left')\n",
    "    plt.show()\n"
   ]
  },
  {
   "cell_type": "markdown",
   "metadata": {},
   "source": [
    "### ΥΛΟΠΟΙΗΣΗ L2 REGULARIZATION"
   ]
  },
  {
   "cell_type": "markdown",
   "metadata": {},
   "source": [
    "Η παράμετρος weight_decay ουσιαστικά ενεργοποιεί το l2 regularization. To l2 regularization είναι ένας τρόπος να <<τιμωρήσουμε>> τις μεγάλες τιμές των weights ώστε να αποφύγουμε το overfitting προσθέτοντας το τετράγωνο της νόρμας των βαρών στη συνάρτηση loss.\n",
    "\n",
    "Με αυτόν τον τρόπο είναι σα να λέμε στα weights μας να μη μεγαλώσουν πολύ και να προτιμήσουν ένα αρκετά πιο απλό μοντέλο."
   ]
  },
  {
   "cell_type": "code",
   "execution_count": 11,
   "metadata": {
    "colab": {
     "base_uri": "https://localhost:8080/",
     "height": 178
    },
    "colab_type": "code",
    "id": "fYqfYPsH24IC",
    "outputId": "9524bbaa-4773-4dff-c292-7d2887a9ce25",
    "scrolled": false
   },
   "outputs": [
    {
     "name": "stdout",
     "output_type": "stream",
     "text": [
      "Epoch: 1\n",
      "[Epoch 1/20] [Batch 269/270] [Loss: 1.364512 (1.753237), Acc: 100.00% (49.17%)]Validation loss decreased (inf --> 1.753237).  Saving model ...\n",
      "val Accuracy: 49.17169611747138\n",
      "Epoch: 2\n",
      "[Epoch 2/20] [Batch 269/270] [Loss: 1.696128 (1.267725), Acc: 0.00% (58.72%)]Validation loss decreased (1.753237 --> 1.267725).  Saving model ...\n",
      "val Accuracy: 58.71857889497263\n",
      "Epoch: 3\n",
      "[Epoch 3/20] [Batch 269/270] [Loss: 1.163006 (0.925877), Acc: 0.00% (69.61%)]Validation loss decreased (1.267725 --> 0.925877).  Saving model ...\n",
      "val Accuracy: 69.60708063713291\n",
      "Epoch: 4\n",
      "[Epoch 4/20] [Batch 269/270] [Loss: 0.736272 (0.634622), Acc: 100.00% (83.28%)]Validation loss decreased (0.925877 --> 0.634622).  Saving model ...\n",
      "val Accuracy: 83.27603907416625\n",
      "Epoch: 5\n",
      "[Epoch 5/20] [Batch 269/270] [Loss: 0.230565 (0.535321), Acc: 100.00% (82.71%)]Validation loss decreased (0.634622 --> 0.535321).  Saving model ...\n",
      "val Accuracy: 82.70828148332504\n",
      "Epoch: 6\n",
      "[Epoch 6/20] [Batch 269/270] [Loss: 0.071535 (0.458924), Acc: 100.00% (85.14%)]Validation loss decreased (0.535321 --> 0.458924).  Saving model ...\n",
      "val Accuracy: 85.14108387257342\n",
      "Epoch: 7\n",
      "[Epoch 7/20] [Batch 269/270] [Loss: 0.042274 (0.387610), Acc: 100.00% (86.72%)]Validation loss decreased (0.458924 --> 0.387610).  Saving model ...\n",
      "val Accuracy: 86.71525012444002\n",
      "Epoch: 8\n",
      "[Epoch 8/20] [Batch 269/270] [Loss: 0.034081 (0.305026), Acc: 100.00% (91.81%)]Validation loss decreased (0.387610 --> 0.305026).  Saving model ...\n",
      "val Accuracy: 91.80873568939772\n",
      "Epoch: 9\n",
      "[Epoch 9/20] [Batch 269/270] [Loss: 0.010278 (0.213424), Acc: 100.00% (92.94%)]Validation loss decreased (0.305026 --> 0.213424).  Saving model ...\n",
      "val Accuracy: 92.94113987058239\n",
      "Epoch: 10\n",
      "[Epoch 10/20] [Batch 269/270] [Loss: 0.030311 (0.139273), Acc: 100.00% (96.95%)]Validation loss decreased (0.213424 --> 0.139273).  Saving model ...\n",
      "val Accuracy: 96.9488862618218\n",
      "Epoch: 11\n",
      "[Epoch 11/20] [Batch 269/270] [Loss: 0.014350 (0.136388), Acc: 100.00% (97.32%)]Validation loss decreased (0.139273 --> 0.136388).  Saving model ...\n",
      "val Accuracy: 97.31598432055749\n",
      "Epoch: 12\n",
      "[Epoch 12/20] [Batch 269/270] [Loss: 0.007603 (0.112955), Acc: 100.00% (97.77%)]Validation loss decreased (0.136388 --> 0.112955).  Saving model ...\n",
      "val Accuracy: 97.76630164260827\n",
      "Epoch: 13\n",
      "[Epoch 13/20] [Batch 269/270] [Loss: 0.005983 (0.094631), Acc: 100.00% (97.09%)]Validation loss decreased (0.112955 --> 0.094631).  Saving model ...\n",
      "val Accuracy: 97.09277003484321\n",
      "Epoch: 14\n",
      "[Epoch 14/20] [Batch 269/270] [Loss: 0.002911 (0.117750), Acc: 100.00% (97.39%)]EarlyStopping counter: 1 out of 3\n",
      "val Accuracy: 97.39298158287706\n",
      "Epoch: 15\n",
      "[Epoch 15/20] [Batch 269/270] [Loss: 0.002485 (0.093203), Acc: 100.00% (96.74%)]Validation loss decreased (0.094631 --> 0.093203).  Saving model ...\n",
      "val Accuracy: 96.74356022896964\n",
      "Epoch: 16\n",
      "[Epoch 16/20] [Batch 269/270] [Loss: 0.002458 (0.106744), Acc: 100.00% (97.41%)]EarlyStopping counter: 1 out of 3\n",
      "val Accuracy: 97.41320308611249\n",
      "Epoch: 17\n",
      "[Epoch 17/20] [Batch 269/270] [Loss: 0.002012 (0.091276), Acc: 100.00% (97.13%)]Validation loss decreased (0.093203 --> 0.091276).  Saving model ...\n",
      "val Accuracy: 97.13010204081633\n",
      "Epoch: 18\n",
      "[Epoch 18/20] [Batch 269/270] [Loss: 0.002435 (0.083871), Acc: 100.00% (98.21%)]Validation loss decreased (0.091276 --> 0.083871).  Saving model ...\n",
      "val Accuracy: 98.20884146341463\n",
      "Epoch: 19\n",
      "[Epoch 19/20] [Batch 269/270] [Loss: 0.001843 (0.105685), Acc: 100.00% (97.48%)]EarlyStopping counter: 1 out of 3\n",
      "val Accuracy: 97.48475609756098\n",
      "Epoch: 20\n",
      "[Epoch 20/20] [Batch 269/270] [Loss: 0.001579 (0.070110), Acc: 100.00% (98.20%)]Validation loss decreased (0.083871 --> 0.070110).  Saving model ...\n",
      "val Accuracy: 98.19717521154804\n"
     ]
    },
    {
     "data": {
      "image/png": "[encoded data removed]",
      "text/plain": [
       "<Figure size 432x288 with 1 Axes>"
      ]
     },
     "metadata": {
      "needs_background": "light"
     },
     "output_type": "display_data"
    }
   ],
   "source": [
    "optim = torch.optim.Adam(model.parameters(),lr = 0.001,weight_decay = 1e-3) # weight decay is for l2 regularization\n",
    "train(model,dataloaders,20,optim,3)"
   ]
  },
  {
   "cell_type": "markdown",
   "metadata": {},
   "source": [
    "Το διάγραμμα δείχνει πως είχαμε μείωση και του validation και του training set καθ'όλη τη διάρκεια. Κάποιες φορές ο μετρητής early stopping ξεκίναγε να μετράει όταν μειωνόταν το validation score όπως στις εποχές 14,16,19 αλλά μετά ξανά βελτιωνόταν το accuracy οπότε δε χρειάστηκε να σταματήσουμε το μοντέλο μας."
   ]
  },
  {
   "cell_type": "markdown",
   "metadata": {},
   "source": [
    "### Test set evaluation"
   ]
  },
  {
   "cell_type": "markdown",
   "metadata": {},
   "source": [
    "Παρακάτω κάνουμε predict τα test δεδομένα και δίνουμε το ποσοστό επιτυχίας και το confusion matrix. "
   ]
  },
  {
   "cell_type": "code",
   "execution_count": 13,
   "metadata": {},
   "outputs": [],
   "source": [
    "for i in range(len(X_test)):\n",
    "    X_test[i] = torch.from_numpy(X_test[i])\n",
    "X_test = torch.nn.utils.rnn.pad_sequence(X_test, batch_first=True)"
   ]
  },
  {
   "cell_type": "code",
   "execution_count": 14,
   "metadata": {},
   "outputs": [],
   "source": [
    "test_data = torch.utils.data.TensorDataset(X_test,torch.from_numpy(np.asarray(y_test)))\n",
    "test_loader = torch.utils.data.DataLoader(test_data ,batch_size = 1, shuffle = True)"
   ]
  },
  {
   "cell_type": "code",
   "execution_count": 15,
   "metadata": {},
   "outputs": [
    {
     "data": {
      "text/plain": [
       "LSTMClassifier(\n",
       "  (lstm): LSTM(6, 256, batch_first=True, bidirectional=True)\n",
       "  (hidden2out): Linear(in_features=256, out_features=10, bias=True)\n",
       "  (dropout_layer): Dropout(p=0.3, inplace=False)\n",
       ")"
      ]
     },
     "execution_count": 15,
     "metadata": {},
     "output_type": "execute_result"
    }
   ],
   "source": [
    "model = LSTMClassifier()\n",
    "model.load_state_dict(torch.load('./checkpoint.pt'))\n",
    "model.eval()"
   ]
  },
  {
   "cell_type": "code",
   "execution_count": 16,
   "metadata": {
    "scrolled": true
   },
   "outputs": [
    {
     "name": "stdout",
     "output_type": "stream",
     "text": [
      "test set accuracy equals to 99.33333333333333 \n"
     ]
    }
   ],
   "source": [
    "acc = 0 \n",
    "total = 0\n",
    "\n",
    "y_test_for_cm = []\n",
    "y_test_predict_cm = []\n",
    "with torch.no_grad():\n",
    "    for  batch_idx , (data, target) in enumerate(test_loader):\n",
    "        data, target = Variable(data), Variable(target)\n",
    "        data = data.type(torch.FloatTensor).to(device)\n",
    "        target = target.type(torch.LongTensor).to(device)\n",
    "        output = model(data).detach().argmax(1)\n",
    "        \n",
    "        y_test_for_cm.append(target)\n",
    "        y_test_predict_cm.append(output)\n",
    "        if output == target:\n",
    "            acc += 1\n",
    "        total +=1\n",
    "score = (acc/total) *100\n",
    "\n",
    "cm_test = confusion_matrix(y_test_for_cm ,y_test_predict_cm )\n",
    "print(\"test set accuracy equals to {} \".format(score))"
   ]
  },
  {
   "cell_type": "markdown",
   "metadata": {},
   "source": [
    "### Confusion Matrix for Test set"
   ]
  },
  {
   "cell_type": "code",
   "execution_count": 17,
   "metadata": {},
   "outputs": [
    {
     "name": "stdout",
     "output_type": "stream",
     "text": [
      "Normalized confusion matrix\n",
      "[[1.         0.         0.         0.         0.         0.\n",
      "  0.         0.         0.         0.        ]\n",
      " [0.         0.93333333 0.         0.         0.06666667 0.\n",
      "  0.         0.         0.         0.        ]\n",
      " [0.         0.         1.         0.         0.         0.\n",
      "  0.         0.         0.         0.        ]\n",
      " [0.         0.         0.         1.         0.         0.\n",
      "  0.         0.         0.         0.        ]\n",
      " [0.         0.         0.         0.         1.         0.\n",
      "  0.         0.         0.         0.        ]\n",
      " [0.         0.         0.         0.         0.         1.\n",
      "  0.         0.         0.         0.        ]\n",
      " [0.         0.         0.         0.         0.         0.\n",
      "  1.         0.         0.         0.        ]\n",
      " [0.         0.         0.         0.         0.         0.\n",
      "  0.         1.         0.         0.        ]\n",
      " [0.         0.         0.         0.         0.         0.\n",
      "  0.         0.         1.         0.        ]\n",
      " [0.         0.         0.         0.         0.         0.\n",
      "  0.         0.         0.         1.        ]]\n"
     ]
    },
    {
     "data": {
      "image/png": "[encoded data removed]",
      "text/plain": [
       "<Figure size 432x288 with 2 Axes>"
      ]
     },
     "metadata": {
      "needs_background": "light"
     },
     "output_type": "display_data"
    }
   ],
   "source": [
    "plot_confusion_matrix(cm_test,normalize=True)"
   ]
  },
  {
   "cell_type": "markdown",
   "metadata": {},
   "source": [
    "### Confusion Matrix for val set + evaluation again"
   ]
  },
  {
   "cell_type": "code",
   "execution_count": 18,
   "metadata": {},
   "outputs": [
    {
     "name": "stdout",
     "output_type": "stream",
     "text": [
      "val set accuracy equals to 98.14814814814815 \n"
     ]
    }
   ],
   "source": [
    "acc = 0 \n",
    "total = 0\n",
    "\n",
    "y_val_for_cm = []\n",
    "y_val_predict_cm = []\n",
    "with torch.no_grad():\n",
    "    for  batch_idx , (data, target) in enumerate(valid_loader):\n",
    "        data, target = Variable(data), Variable(target)\n",
    "        data = data.type(torch.FloatTensor).to(device)\n",
    "        target = target.type(torch.LongTensor).to(device)\n",
    "        output = model(data).detach().argmax(1)\n",
    "        \n",
    "        y_val_for_cm.append(target)\n",
    "        y_val_predict_cm.append(output)\n",
    "        if output == target:\n",
    "            acc += 1\n",
    "        total +=1\n",
    "score = (acc/total) *100\n",
    "\n",
    "cm_val = confusion_matrix(y_val_for_cm ,y_val_predict_cm )\n",
    "print(\"val set accuracy equals to {} \".format(score))"
   ]
  },
  {
   "cell_type": "code",
   "execution_count": 19,
   "metadata": {},
   "outputs": [
    {
     "name": "stdout",
     "output_type": "stream",
     "text": [
      "Normalized confusion matrix\n",
      "[[0.96296296 0.         0.         0.03703704 0.         0.\n",
      "  0.         0.         0.         0.        ]\n",
      " [0.         1.         0.         0.         0.         0.\n",
      "  0.         0.         0.         0.        ]\n",
      " [0.         0.         1.         0.         0.         0.\n",
      "  0.         0.         0.         0.        ]\n",
      " [0.         0.         0.         1.         0.         0.\n",
      "  0.         0.         0.         0.        ]\n",
      " [0.         0.         0.         0.         1.         0.\n",
      "  0.         0.         0.         0.        ]\n",
      " [0.         0.         0.         0.         0.         0.96296296\n",
      "  0.         0.03703704 0.         0.        ]\n",
      " [0.         0.         0.         0.         0.         0.\n",
      "  0.96296296 0.         0.03703704 0.        ]\n",
      " [0.         0.         0.         0.03703704 0.         0.\n",
      "  0.         0.96296296 0.         0.        ]\n",
      " [0.         0.         0.         0.03703704 0.         0.\n",
      "  0.         0.         0.96296296 0.        ]\n",
      " [0.         0.         0.         0.         0.         0.\n",
      "  0.         0.         0.         1.        ]]\n"
     ]
    },
    {
     "data": {
      "image/png": "[encoded data removed]",
      "text/plain": [
       "<Figure size 432x288 with 2 Axes>"
      ]
     },
     "metadata": {
      "needs_background": "light"
     },
     "output_type": "display_data"
    }
   ],
   "source": [
    "plot_confusion_matrix(cm_val,normalize=True)"
   ]
  },
  {
   "cell_type": "markdown",
   "metadata": {},
   "source": [
    "## PACKED PAD SEQUENCES ~ TESTING THE DIFFERENCE IN SPEED"
   ]
  },
  {
   "cell_type": "markdown",
   "metadata": {},
   "source": [
    "## δείτε το lstm_packed.ipynb"
   ]
  }
 ],
 "metadata": {
  "colab": {
   "collapsed_sections": [],
   "name": "Freelance.ipynb",
   "provenance": []
  },
  "kernelspec": {
   "display_name": "Python 3",
   "language": "python",
   "name": "python3"
  },
  "language_info": {
   "codemirror_mode": {
    "name": "ipython",
    "version": 3
   },
   "file_extension": ".py",
   "mimetype": "text/x-python",
   "name": "python",
   "nbconvert_exporter": "python",
   "pygments_lexer": "ipython3",
   "version": "3.7.3"
  }
 },
 "nbformat": 4,
 "nbformat_minor": 1
}

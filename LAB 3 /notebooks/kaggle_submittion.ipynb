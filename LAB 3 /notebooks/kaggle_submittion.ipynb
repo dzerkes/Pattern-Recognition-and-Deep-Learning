{
 "cells": [
  {
   "cell_type": "code",
   "execution_count": null,
   "metadata": {
    "_cell_guid": "b1076dfc-b9ad-4769-8c92-a6c4dae69d19",
    "_uuid": "8f2839f25d086af736a60e9eeb907d3b93b6e0e5"
   },
   "outputs": [],
   "source": [
    "# This Python 3 environment comes with many helpful analytics libraries installed\n",
    "# It is defined by the kaggle/python docker image: https://github.com/kaggle/docker-python\n",
    "# For example, here's several helpful packages to load in \n",
    "\n",
    "import numpy as np # linear algebra\n",
    "import pandas as pd # data processing, CSV file I/O (e.g. pd.read_csv)\n",
    "\n",
    "# Input data files are available in the \"../input/\" directory.\n",
    "# For example, running this (by clicking run or pressing Shift+Enter) will list all files under the input directory\n",
    "\n",
    "import os\n",
    "for dirname, _, filenames in os.walk('/kaggle/input'):\n",
    "    for filename in filenames:\n",
    "        print(os.path.join(dirname, filename))\n",
    "\n",
    "# Any results you write to the current directory are saved as output."
   ]
  },
  {
   "cell_type": "code",
   "execution_count": 1,
   "metadata": {
    "_cell_guid": "79c7e3d0-c299-4dcb-8224-4455121ee9b0",
    "_uuid": "d629ff2d2480ee46fbb7e2d37f6b5fab8052498a"
   },
   "outputs": [],
   "source": [
    "import numpy as np\n",
    "import copy\n",
    "from sklearn.preprocessing import LabelEncoder\n",
    "from torch.utils.data import Dataset\n",
    "from torch.utils.data import SubsetRandomSampler, DataLoader\n",
    "import re\n",
    "import pandas as pd # data processing, CSV file I/O (e.g. pd.read_csv)\n",
    "import os\n",
    "import sys\n",
    "import matplotlib.pyplot as plt\n",
    "from scipy.stats import spearmanr\n",
    "\n",
    "# Combine similar classes and remove underrepresented classes\n",
    "class_mapping = {\n",
    "    'Rock': 'Rock',\n",
    "    'Psych-Rock': 'Rock',\n",
    "    'Indie-Rock': None,\n",
    "    'Post-Rock': 'Rock',\n",
    "    'Psych-Folk': 'Folk',\n",
    "    'Folk': 'Folk',\n",
    "    'Metal': 'Metal',\n",
    "    'Punk': 'Metal',\n",
    "    'Post-Punk': None,\n",
    "    'Trip-Hop': 'Trip-Hop',\n",
    "    'Pop': 'Pop',\n",
    "    'Electronic': 'Electronic',\n",
    "    'Hip-Hop': 'Hip-Hop',\n",
    "    'Classical': 'Classical',\n",
    "    'Blues': 'Blues',\n",
    "    'Chiptune': 'Electronic',\n",
    "    'Jazz': 'Jazz',\n",
    "    'Soundtrack': None,\n",
    "    'International': None,\n",
    "    'Old-Time': None\n",
    "}\n",
    "\n",
    "def torch_train_val_split(dataset, batch_train, batch_eval,val_size=.2, shuffle=True, seed=None):\n",
    "    # Creating data indices for training and validation splits:\n",
    "    dataset_size = len(dataset)\n",
    "    indices = list(range(dataset_size))\n",
    "    val_split = int(np.floor(val_size * dataset_size))\n",
    "    if shuffle:\n",
    "        np.random.seed(seed)\n",
    "        np.random.shuffle(indices)\n",
    "    train_indices = indices[val_split:]\n",
    "    val_indices = indices[:val_split]\n",
    "\n",
    "    # Creating PT data samplers and loaders:\n",
    "    train_sampler = SubsetRandomSampler(train_indices)\n",
    "    val_sampler = SubsetRandomSampler(val_indices)\n",
    "\n",
    "    train_loader = DataLoader(dataset,\n",
    "                              batch_size=batch_train,\n",
    "                              sampler=train_sampler)\n",
    "    val_loader = DataLoader(dataset,\n",
    "                            batch_size=batch_eval,\n",
    "                            sampler=val_sampler)\n",
    "    return train_loader, val_loader\n",
    "\n",
    "\n",
    "def read_fused_spectrogram(spectrogram_file):\n",
    "    spectrogram = np.load(spectrogram_file)\n",
    "    return spectrogram.T\n",
    "\n",
    "\n",
    "def read_mel_spectrogram(spectrogram_file):\n",
    "    spectrogram = np.load(spectrogram_file)[:128]\n",
    "    return spectrogram.T\n",
    "\n",
    "    \n",
    "def read_chromagram(spectrogram_file):\n",
    "    spectrogram = np.load(spectrogram_file)[128:]\n",
    "    return spectrogram.T\n",
    "\n",
    "\n",
    "class LabelTransformer(LabelEncoder):\n",
    "    def inverse(self, y):\n",
    "        try:\n",
    "            return super(LabelTransformer, self).inverse_transform(y)\n",
    "        except:\n",
    "            return super(LabelTransformer, self).inverse_transform([y])\n",
    "\n",
    "    def transform(self, y):\n",
    "        try:\n",
    "            return super(LabelTransformer, self).transform(y)\n",
    "        except:\n",
    "            return super(LabelTransformer, self).transform([y])\n",
    "\n",
    "\n",
    "\n",
    "class PaddingTransform(object):\n",
    "    def __init__(self, max_length, padding_value=0):\n",
    "        self.max_length = max_length\n",
    "        self.padding_value = padding_value\n",
    "    #https://stackoverflow.com/questions/9663562/what-is-the-difference-between-init-and-call\n",
    "    def __call__(self, s):\n",
    "        if len(s) == self.max_length:\n",
    "            return s\n",
    "\n",
    "        if len(s) > self.max_length:\n",
    "            return s[:self.max_length]\n",
    "\n",
    "        if len(s) < self.max_length:\n",
    "            #https://www.geeksforgeeks.org/copy-python-deep-copy-shallow-copy/\n",
    "            s1 = copy.deepcopy(s)\n",
    "            pad = np.zeros((self.max_length - s.shape[0], s.shape[1]), dtype=np.float32)\n",
    "            s1 = np.vstack((s1, pad))\n",
    "            return s1\n",
    "        \n",
    "class MultiDatasetCnn(Dataset): ## expanding dimensions...\n",
    "    def __init__(self, path ,train=True, max_length=-1, read_spec_fn=read_fused_spectrogram):\n",
    "        t = 'train' if train else 'test'\n",
    "        p = os.path.join(path, t)\n",
    "        self.index = os.path.join(path, \"{}_labels.txt\".format(t))\n",
    "        self.files, labels = self.get_files_labels(self.index)\n",
    "        self.feats = [read_spec_fn(os.path.join(p, f)) for f in self.files]\n",
    "        self.feat_dim = self.feats[0].shape[1]\n",
    "        self.lengths = [len(i) for i in self.feats]\n",
    "        self.max_length = max(self.lengths) if max_length <= 0 else max_length\n",
    "        self.zero_pad_and_stack = PaddingTransform(self.max_length)\n",
    "        \n",
    "        if isinstance(labels, (list, tuple)):\n",
    "            self.labels = np.array(labels).astype('float32')\n",
    "        #print([f.shape for f in self.feats] )\n",
    "\n",
    "    def get_files_labels(self, txt):\n",
    "        with open(txt, 'r') as fd:\n",
    "            lines = [l.rstrip().split('\\t') for l in fd.readlines()[1:]]\n",
    "        files, labels = [], []\n",
    "        for l in lines:\n",
    "            l = l[0].split(',')\n",
    "            _id = l[0]\n",
    "            label = l[1:] # load all labels, valence,energy,danceability\n",
    "            npy_file = '{}.fused.full.npy'.format(_id)\n",
    "            files.append(npy_file)\n",
    "            labels.append(label)\n",
    "        return files, labels\n",
    "    \n",
    "    \n",
    "\n",
    "    def __getitem__(self, item):\n",
    "        l = min(self.lengths[item], self.max_length)\n",
    "        return np.expand_dims(self.zero_pad_and_stack(self.feats[item]), 0), self.labels[item], l\n",
    "        \n",
    "    \n",
    "    def __len__(self):\n",
    "        return len(self.labels)"
   ]
  },
  {
   "cell_type": "code",
   "execution_count": 2,
   "metadata": {},
   "outputs": [],
   "source": [
    "class EarlyStopping:\n",
    "    def __init__(self, patience=7, verbose=False):\n",
    "        self.patience = patience\n",
    "        self.verbose = verbose\n",
    "        self.counter = 0\n",
    "        self.best_score = None\n",
    "        self.early_stop = False\n",
    "        self.val_loss_min = np.Inf\n",
    "\n",
    "    def __call__(self, val_loss, model):\n",
    "\n",
    "        score = -val_loss\n",
    "\n",
    "        if self.best_score is None:\n",
    "            self.best_score = score\n",
    "            self.save_checkpoint(val_loss, model)\n",
    "        elif score < self.best_score:\n",
    "            self.counter += 1\n",
    "            print(f'EarlyStopping counter: {self.counter} out of {self.patience}')\n",
    "            if self.counter >= self.patience:\n",
    "                self.early_stop = True\n",
    "        else:\n",
    "            self.best_score = score\n",
    "            self.save_checkpoint(val_loss, model)\n",
    "            self.counter = 0\n",
    "\n",
    "    def save_checkpoint(self, val_loss, model):\n",
    "        '''Saves model when validation loss decrease.'''\n",
    "        if self.verbose:\n",
    "            print(f'Validation loss decreased ({self.val_loss_min:.6f} --> {val_loss:.6f}).  Saving model ...')\n",
    "        torch.save(model.state_dict(), 'checkpoint.pt')\n",
    "        self.val_loss_min = val_loss"
   ]
  },
  {
   "cell_type": "code",
   "execution_count": 3,
   "metadata": {},
   "outputs": [],
   "source": [
    "data = MultiDatasetCnn('/kaggle/input/patreco3-multitask-affective-music/data/multitask_dataset/', train=True, max_length=-1) \n",
    "train_loader, val_loader = torch_train_val_split(data, 32 ,32, val_size=.2, shuffle=True)\n",
    "test_loader = DataLoader(data, batch_size=32)"
   ]
  },
  {
   "cell_type": "code",
   "execution_count": 4,
   "metadata": {},
   "outputs": [],
   "source": [
    "import torch.nn as nn\n",
    "import torch\n",
    "class Layers(nn.Module):\n",
    "    def __init__(self,in_c,out_c):\n",
    "        super(Layers,self).__init__()\n",
    "        self.conv = nn.Conv2d(in_channels=in_c,kernel_size=5,out_channels=out_c,stride=1,padding=2)\n",
    "        self.bn = nn.BatchNorm2d(num_features=out_c)\n",
    "        self.pool = nn.MaxPool2d(2, 2)\n",
    "        self.tanh = nn.Tanh()\n",
    "\n",
    "    def forward(self,x):\n",
    "        output = self.conv(x.float())\n",
    "        output = self.bn(output)\n",
    "        output = self.tanh(output)\n",
    "        output = self.pool(output)\n",
    "        return output\n",
    "\n",
    "class BasicCNN(nn.Module):\n",
    "    def __init__(self, classes):\n",
    "        super(BasicCNN, self).__init__()\n",
    "        self.classes = classes\n",
    "        self.l1 = Layers(in_c=1, out_c=16)\n",
    "        self.l2 = Layers(in_c=16, out_c=8)\n",
    "        self.l3 = Layers(in_c=8, out_c=4)\n",
    "        self.l4 = Layers(in_c=4, out_c=2)\n",
    "        self.net = nn.Sequential(self.l1, self.l2, self.l3, self.l4)\n",
    "        self.fc1 = nn.Linear(8 * 80 * 2, self.classes)\n",
    "        \n",
    "    def forward(self, x):\n",
    "        output = self.net(x)\n",
    "        output = output.view(-1, 8 * 80 * 2)\n",
    "        output = self.fc1(output)\n",
    "        return output\n"
   ]
  },
  {
   "cell_type": "code",
   "execution_count": 5,
   "metadata": {},
   "outputs": [],
   "source": [
    "model = BasicCNN(3)\n",
    "optimizer = torch.optim.Adam(model.parameters(), weight_decay=0.0001)"
   ]
  },
  {
   "cell_type": "code",
   "execution_count": 6,
   "metadata": {},
   "outputs": [],
   "source": [
    "dataloaders = {'train':train_loader,'val':val_loader}"
   ]
  },
  {
   "cell_type": "code",
   "execution_count": 7,
   "metadata": {},
   "outputs": [],
   "source": [
    "def trainCNN(model,dataloaders,num_epochs,optimizer,patience,crit=False):\n",
    "    Flag=False\n",
    "    # for loss\n",
    "    val_loss = []\n",
    "    train_loss = []\n",
    "    phase1 = dataloaders.keys()\n",
    "    criterion = nn.MSELoss()\n",
    "    train_loader = dataloaders['train']\n",
    "    if(torch.cuda.is_available()):\n",
    "        device = 0\n",
    "        model.to(device)\n",
    "    else:\n",
    "        device = 'cpu'\n",
    "        model.to(device)\n",
    "    if(patience!=None):\n",
    "        earlystop = EarlyStopping(patience = patience,verbose = True)\n",
    "    for epoch in range(num_epochs):\n",
    "        counter = epoch # keeping this variable for plot function after for loop\n",
    "        if Flag == True:\n",
    "            break\n",
    "        print('Epoch:',epoch + 1)\n",
    "        epoch_metrics = {\"loss\": [], \"acc\": []}\n",
    "        for phase in phase1:\n",
    "            if phase == 'train':\n",
    "                model.train()\n",
    "            else:\n",
    "                model.eval()\n",
    "            for  batch_idx, data in enumerate(dataloaders[phase]):\n",
    "                optimizer.zero_grad()\n",
    "                output = model(data[0].to(device)).to(device)\n",
    "                loss_valence= criterion(output.squeeze()[:,0], data[1][:,0].to(device))\n",
    "                loss_energy = criterion(output.squeeze()[:,1], data[1][:,1].to(device))\n",
    "                loss_dance  = criterion(output.squeeze()[:,2], data[1][:,2].to(device))\n",
    "                \n",
    "                sum_losses = torch.sum(torch.stack([loss_valence,loss_energy,loss_dance]))\n",
    "                epoch_metrics[\"loss\"].append(sum_losses.item())\n",
    "                sys.stdout.write(\n",
    "                \"\\r[Epoch %d/%d] [Batch %d/%d] [Loss: %f (%f)]\"\n",
    "                % (\n",
    "                    epoch + 1,\n",
    "                    num_epochs,\n",
    "                    batch_idx,\n",
    "                    len(dataloaders[phase]),\n",
    "                    sum_losses.item(),\n",
    "                    np.mean(epoch_metrics[\"loss\"])\n",
    "                    )\n",
    "                )\n",
    "\n",
    "                if(phase =='train'):\n",
    "                    sum_losses.backward()\n",
    "                    optimizer.step()\n",
    "            \n",
    "            epoch_loss = np.mean(epoch_metrics[\"loss\"])\n",
    "            \n",
    "            if phase == 'train':\n",
    "                train_loss.append(epoch_loss)\n",
    "            else: \n",
    "                val_loss.append(epoch_loss)\n",
    "            if(phase == 'val' and patience !=None):\n",
    "                earlystop(epoch_loss,model)\n",
    "                if(earlystop.early_stop):\n",
    "                    print(\"Early stopping\")\n",
    "                    model.load_state_dict(torch.load('./checkpoint.pt'))\n",
    "                    #break\n",
    "                    Flag = True\n",
    "    if counter == num_epochs -1:\n",
    "        epochs_axis = np.arange(num_epochs)\n",
    "    else:\n",
    "        epochs_axis = np.arange(counter)\n",
    "    plt.plot(epochs_axis, train_loss,color='red')\n",
    "    plt.plot(epochs_axis, val_loss,color='blue')\n",
    "    plt.legend(['training-red', 'validation-blue'], loc='upper left')\n",
    "    plt.show()"
   ]
  },
  {
   "cell_type": "code",
   "execution_count": 8,
   "metadata": {},
   "outputs": [
    {
     "name": "stdout",
     "output_type": "stream",
     "text": [
      "Epoch: 1\n",
      "[Epoch 1/20] [Batch 6/7] [Loss: 0.324305 (0.398683)]Validation loss decreased (inf --> 0.398683).  Saving model ...\n",
      "Epoch: 2\n",
      "[Epoch 2/20] [Batch 6/7] [Loss: 0.212395 (0.168522)]Validation loss decreased (0.398683 --> 0.168522).  Saving model ...\n",
      "Epoch: 3\n",
      "[Epoch 3/20] [Batch 6/7] [Loss: 0.191258 (0.140427)]Validation loss decreased (0.168522 --> 0.140427).  Saving model ...\n",
      "Epoch: 4\n",
      "[Epoch 4/20] [Batch 6/7] [Loss: 0.149378 (0.137646)]Validation loss decreased (0.140427 --> 0.137646).  Saving model ...\n",
      "Epoch: 5\n",
      "[Epoch 5/20] [Batch 6/7] [Loss: 0.208894 (0.114255)]Validation loss decreased (0.137646 --> 0.114255).  Saving model ...\n",
      "Epoch: 6\n",
      "[Epoch 6/20] [Batch 6/7] [Loss: 0.162571 (0.123257)]EarlyStopping counter: 1 out of 3\n",
      "Epoch: 7\n",
      "[Epoch 7/20] [Batch 6/7] [Loss: 0.162289 (0.098725)]Validation loss decreased (0.114255 --> 0.098725).  Saving model ...\n",
      "Epoch: 8\n",
      "[Epoch 8/20] [Batch 6/7] [Loss: 0.110890 (0.095304)]Validation loss decreased (0.098725 --> 0.095304).  Saving model ...\n",
      "Epoch: 9\n",
      "[Epoch 9/20] [Batch 6/7] [Loss: 0.131902 (0.090247)]Validation loss decreased (0.095304 --> 0.090247).  Saving model ...\n",
      "Epoch: 10\n",
      "[Epoch 10/20] [Batch 6/7] [Loss: 0.160651 (0.096418)]EarlyStopping counter: 1 out of 3\n",
      "Epoch: 11\n",
      "[Epoch 11/20] [Batch 6/7] [Loss: 0.166088 (0.106546)]EarlyStopping counter: 2 out of 3\n",
      "Epoch: 12\n",
      "[Epoch 12/20] [Batch 6/7] [Loss: 0.145913 (0.089606)]Validation loss decreased (0.090247 --> 0.089606).  Saving model ...\n",
      "Epoch: 13\n",
      "[Epoch 13/20] [Batch 6/7] [Loss: 0.134091 (0.075178)]Validation loss decreased (0.089606 --> 0.075178).  Saving model ...\n",
      "Epoch: 14\n",
      "[Epoch 14/20] [Batch 6/7] [Loss: 0.157156 (0.080799)]EarlyStopping counter: 1 out of 3\n",
      "Epoch: 15\n",
      "[Epoch 15/20] [Batch 6/7] [Loss: 0.110018 (0.071101)]Validation loss decreased (0.075178 --> 0.071101).  Saving model ...\n",
      "Epoch: 16\n",
      "[Epoch 16/20] [Batch 6/7] [Loss: 0.177386 (0.065332)]Validation loss decreased (0.071101 --> 0.065332).  Saving model ...\n",
      "Epoch: 17\n",
      "[Epoch 17/20] [Batch 6/7] [Loss: 0.133398 (0.058237)]Validation loss decreased (0.065332 --> 0.058237).  Saving model ...\n",
      "Epoch: 18\n",
      "[Epoch 18/20] [Batch 6/7] [Loss: 0.136486 (0.060901)]EarlyStopping counter: 1 out of 3\n",
      "Epoch: 19\n",
      "[Epoch 19/20] [Batch 6/7] [Loss: 0.175908 (0.063057)]EarlyStopping counter: 2 out of 3\n",
      "Epoch: 20\n",
      "[Epoch 20/20] [Batch 6/7] [Loss: 0.134144 (0.065193)]EarlyStopping counter: 3 out of 3\n",
      "Early stopping\n"
     ]
    },
    {
     "data": {
      "image/png": "[encoded data removed]",
      "text/plain": [
       "<Figure size 432x288 with 1 Axes>"
      ]
     },
     "metadata": {
      "needs_background": "light"
     },
     "output_type": "display_data"
    }
   ],
   "source": [
    "trainCNN(model,dataloaders,20,optimizer,3)"
   ]
  },
  {
   "cell_type": "markdown",
   "metadata": {},
   "source": [
    "Predict on Test set"
   ]
  },
  {
   "cell_type": "code",
   "execution_count": 9,
   "metadata": {},
   "outputs": [],
   "source": [
    "def CNN_REG(test_loader, model, criterion,device=0):\n",
    "    \n",
    "    test_loss = []\n",
    "    predictions = []\n",
    "    ytest  = []\n",
    "    predictions_dance, y_test_dance = [], []\n",
    "    model.eval()\n",
    "    model.to(0)\n",
    "    for i_batch, data_batched in enumerate(test_loader, 0):\n",
    "        data_batched[0], data_batched[2] = data_batched[0].to(0), data_batched[2].to(0)\n",
    "        output = model(data_batched[0]).to(0)\n",
    "        \n",
    "        predictions_val , predictions_en , predictions_dance = output.squeeze()[:,0],output.squeeze()[:,1],output.squeeze()[:,2]\n",
    "        y_test_val , y_test_en , y_test_dance =  data_batched[1][:,0].to(device),data_batched[1][:,1].to(device),data_batched[1][:,2].to(device)\n",
    "        \n",
    "        loss_valence= criterion(predictions_val,   y_test_val)\n",
    "        loss_energy = criterion(predictions_en,    y_test_en)\n",
    "        loss_dance  = criterion(predictions_dance, y_test_dance)\n",
    "        \n",
    "        loss = torch.sum(torch.stack([loss_valence,loss_energy,loss_dance]))\n",
    "        test_loss.append(loss.item()) \n",
    "        \n",
    "        preds1 = predictions_val.data.cpu().numpy()\n",
    "        preds2 = predictions_en.data.cpu().numpy()\n",
    "        preds3 = predictions_dance.data.cpu().numpy()\n",
    "        \n",
    "        predictions += list(preds1)\n",
    "        predictions += list(preds2)\n",
    "        predictions += list(preds3)\n",
    "    \n",
    "        ytest += list(y_test_val.data.cpu().numpy())  \n",
    "        ytest += list(y_test_en.data.cpu().numpy()) \n",
    "        ytest += list(y_test_dance.data.cpu().numpy()) \n",
    "        \n",
    "    total_loss = np.mean(test_loss)\n",
    "    print('Test loss: {}'.format(total_loss))\n",
    "    return predictions, ytest"
   ]
  },
  {
   "cell_type": "code",
   "execution_count": 10,
   "metadata": {},
   "outputs": [
    {
     "name": "stdout",
     "output_type": "stream",
     "text": [
      "Test loss: 0.05702364962134096\n"
     ]
    },
    {
     "data": {
      "text/plain": [
       "SpearmanrResult(correlation=0.826440821303077, pvalue=0.0)"
      ]
     },
     "execution_count": 10,
     "metadata": {},
     "output_type": "execute_result"
    }
   ],
   "source": [
    "criterion_regr = nn.MSELoss()\n",
    "predictions_cnn, labels_cnn = CNN_REG(test_loader, model, criterion_regr)\n",
    "spearmanr(labels_cnn, predictions_cnn)"
   ]
  },
  {
   "cell_type": "markdown",
   "metadata": {},
   "source": [
    "Παρατηρούμε πως πετύχαμε loss περίπου 0.1 με καλό correlation το οποίο είναι στατιστικά σημαντικό."
   ]
  },
  {
   "cell_type": "markdown",
   "metadata": {},
   "source": [
    "* Υποβολή στο kaggle. Αλλάζουμε τη συνάρτηση με το dataset ώστε να διαβάσουμε τα δεδομένα στο φάκελο test."
   ]
  },
  {
   "cell_type": "code",
   "execution_count": 36,
   "metadata": {},
   "outputs": [],
   "source": [
    "class MultiDatasetCnn2(Dataset): ## expanding dimensions...\n",
    "    def __init__(self,  max_length=-1, read_spec_fn=read_fused_spectrogram):\n",
    "        #t = 'train' if train else 'test'\n",
    "        path = '/kaggle/input/patreco3-multitask-affective-music/data/multitask_dataset/test'\n",
    "        p = os.listdir('/kaggle/input/patreco3-multitask-affective-music/data/multitask_dataset/test')\n",
    "        #self.index = os.path.join(path, \"{}_labels.txt\".format(t))\n",
    "        #self.files, labels = self.get_files_labels(self.index)\n",
    "        files = []\n",
    "        for i in p:\n",
    "            files.append(os.path.join(path,i))\n",
    "        self.feats = [read_spec_fn(f) for f in files]\n",
    "        self.feat_dim = self.feats[0].shape[1]\n",
    "        self.lengths = [len(i) for i in self.feats]\n",
    "        self.max_length = max(self.lengths) if max_length <= 0 else max_length\n",
    "        self.zero_pad_and_stack = PaddingTransform(self.max_length)\n",
    "        \n",
    "        if isinstance(p, (list, tuple)):\n",
    "            self.p = np.array(p)\n",
    "        #print([f.shape for f in self.feats] )\n",
    "\n",
    "    def get_files_labels(self, txt):\n",
    "        with open(txt, 'r') as fd:\n",
    "            lines = [l.rstrip().split('\\t') for l in fd.readlines()[1:]]\n",
    "        files, labels = [], []\n",
    "        for l in lines:\n",
    "            l = l[0].split(',')\n",
    "            _id = l[0]\n",
    "            label = l[1:] # load all labels, valence,energy,danceability\n",
    "            npy_file = '{}.fused.full.npy'.format(_id)\n",
    "            files.append(npy_file)\n",
    "            labels.append(label)\n",
    "        return files, labels\n",
    "    \n",
    "    \n",
    "\n",
    "    def __getitem__(self, item):\n",
    "        l = min(self.lengths[item], self.max_length)\n",
    "        return np.expand_dims(self.zero_pad_and_stack(self.feats[item]), 0), self.p[item] \n",
    "        \n",
    "    \n",
    "    def __len__(self):\n",
    "        return len(self.feats)\n",
    "\n",
    "\n",
    "\n",
    "data = MultiDatasetCnn2(max_length=-1) \n",
    "test_loader = DataLoader(data, batch_size=32)"
   ]
  },
  {
   "cell_type": "code",
   "execution_count": null,
   "metadata": {},
   "outputs": [],
   "source": [
    "#os.path.join('/kaggle/input/patreco3-multitask-affective-music/data/multitask_dataset/test','fo')"
   ]
  },
  {
   "cell_type": "code",
   "execution_count": 20,
   "metadata": {},
   "outputs": [
    {
     "data": {
      "text/plain": [
       "'7659.fused.full.npy'"
      ]
     },
     "execution_count": 20,
     "metadata": {},
     "output_type": "execute_result"
    }
   ],
   "source": [
    "#os.listdir('/kaggle/input/patreco3-multitask-affective-music/data/multitask_dataset/test')[0]"
   ]
  },
  {
   "cell_type": "code",
   "execution_count": 21,
   "metadata": {},
   "outputs": [
    {
     "data": {
      "text/plain": [
       "'/kaggle/input/patreco3-multitask-affective-music/data/multitask_dataset/test/7659.fused.full.npy'"
      ]
     },
     "execution_count": 21,
     "metadata": {},
     "output_type": "execute_result"
    }
   ],
   "source": [
    "#os.path.join('/kaggle/input/patreco3-multitask-affective-music/data/multitask_dataset/test','7659.fused.full.npy')"
   ]
  },
  {
   "cell_type": "code",
   "execution_count": 48,
   "metadata": {},
   "outputs": [],
   "source": [
    "def CNN_REG(test_loader, model, criterion,device=0):\n",
    "    \n",
    "    #test_loss = []\n",
    "    #predictions = []\n",
    "    #ytest  = []\n",
    "    pred_id,predictions_valence, predictions_energy,predictions_danceability = [], [], [] , []\n",
    "    model.eval()\n",
    "    model.to(device)\n",
    "    for i_batch, data_batched in enumerate(test_loader, 0):\n",
    "        data_batched[0] = data_batched[0].to(device)\n",
    "        #print(data_batched[1])\n",
    "        data_batched[1] =  data_batched[1]#.to(device)\n",
    "        output = model(data_batched[0]).to(device)\n",
    "        \n",
    "        predictions_val , predictions_en , predictions_dance = output.squeeze()[:,0],output.squeeze()[:,1],output.squeeze()[:,2]\n",
    "        #y_test_val , y_test_en , y_test_dance =  data_batched[1][:,0].to(device),data_batched[1][:,1].to(device),data_batched[1][:,2].to(device)\n",
    "        predictions_valence += list(predictions_val.data.cpu().numpy())\n",
    "        predictions_energy += list(predictions_en.data.cpu().numpy())\n",
    "        predictions_danceability += list(predictions_dance.data.cpu().numpy())\n",
    "        pred_id += list(data_batched[1])\n",
    "        \n",
    "    #total_loss = np.mean(test_loss)\n",
    "    #print('Test loss: {}'.format(total_loss))\n",
    "    return pred_id,predictions_valence,predictions_energy, predictions_danceability"
   ]
  },
  {
   "cell_type": "code",
   "execution_count": 49,
   "metadata": {},
   "outputs": [],
   "source": [
    "pid,val,en,dance = CNN_REG(test_loader, model, criterion_regr,device='cpu')"
   ]
  },
  {
   "cell_type": "code",
   "execution_count": 51,
   "metadata": {},
   "outputs": [
    {
     "data": {
      "text/html": [
       "<div>\n",
       "<style scoped>\n",
       "    .dataframe tbody tr th:only-of-type {\n",
       "        vertical-align: middle;\n",
       "    }\n",
       "\n",
       "    .dataframe tbody tr th {\n",
       "        vertical-align: top;\n",
       "    }\n",
       "\n",
       "    .dataframe thead th {\n",
       "        text-align: right;\n",
       "    }\n",
       "</style>\n",
       "<table border=\"1\" class=\"dataframe\">\n",
       "  <thead>\n",
       "    <tr style=\"text-align: right;\">\n",
       "      <th></th>\n",
       "      <th>Id.fused.full.npy</th>\n",
       "      <th>valence</th>\n",
       "      <th>energy</th>\n",
       "      <th>dance</th>\n",
       "    </tr>\n",
       "  </thead>\n",
       "  <tbody>\n",
       "    <tr>\n",
       "      <th>0</th>\n",
       "      <td>7659.fused.full.npy</td>\n",
       "      <td>0.780193</td>\n",
       "      <td>0.736285</td>\n",
       "      <td>0.754877</td>\n",
       "    </tr>\n",
       "    <tr>\n",
       "      <th>1</th>\n",
       "      <td>1704.fused.full.npy</td>\n",
       "      <td>0.637906</td>\n",
       "      <td>0.499492</td>\n",
       "      <td>0.610718</td>\n",
       "    </tr>\n",
       "    <tr>\n",
       "      <th>2</th>\n",
       "      <td>9250.fused.full.npy</td>\n",
       "      <td>0.631738</td>\n",
       "      <td>0.898681</td>\n",
       "      <td>0.421798</td>\n",
       "    </tr>\n",
       "    <tr>\n",
       "      <th>3</th>\n",
       "      <td>1652.fused.full.npy</td>\n",
       "      <td>0.636361</td>\n",
       "      <td>0.922732</td>\n",
       "      <td>0.609474</td>\n",
       "    </tr>\n",
       "    <tr>\n",
       "      <th>4</th>\n",
       "      <td>2514.fused.full.npy</td>\n",
       "      <td>0.478625</td>\n",
       "      <td>0.514503</td>\n",
       "      <td>0.709588</td>\n",
       "    </tr>\n",
       "  </tbody>\n",
       "</table>\n",
       "</div>"
      ],
      "text/plain": [
       "     Id.fused.full.npy   valence    energy     dance\n",
       "0  7659.fused.full.npy  0.780193  0.736285  0.754877\n",
       "1  1704.fused.full.npy  0.637906  0.499492  0.610718\n",
       "2  9250.fused.full.npy  0.631738  0.898681  0.421798\n",
       "3  1652.fused.full.npy  0.636361  0.922732  0.609474\n",
       "4  2514.fused.full.npy  0.478625  0.514503  0.709588"
      ]
     },
     "execution_count": 51,
     "metadata": {},
     "output_type": "execute_result"
    }
   ],
   "source": [
    "solution = pd.DataFrame({'Id.fused.full.npy':pid,'valence':val,'energy':en,'danceability':dance})\n",
    "solution.head()"
   ]
  },
  {
   "cell_type": "code",
   "execution_count": 52,
   "metadata": {},
   "outputs": [
    {
     "name": "stdout",
     "output_type": "stream",
     "text": [
      "Saved file: solution.txt\n"
     ]
    }
   ],
   "source": [
    "filename = 'solution.txt'\n",
    "solution.to_csv(filename,index=False)\n",
    "print('Saved file: ' + filename)"
   ]
  },
  {
   "cell_type": "code",
   "execution_count": null,
   "metadata": {},
   "outputs": [],
   "source": []
  }
 ],
 "metadata": {
  "kernelspec": {
   "display_name": "Python 3",
   "language": "python",
   "name": "python3"
  },
  "language_info": {
   "codemirror_mode": {
    "name": "ipython",
    "version": 3
   },
   "file_extension": ".py",
   "mimetype": "text/x-python",
   "name": "python",
   "nbconvert_exporter": "python",
   "pygments_lexer": "ipython3",
   "version": "3.7.3"
  }
 },
 "nbformat": 4,
 "nbformat_minor": 1
}
